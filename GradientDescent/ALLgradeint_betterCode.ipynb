{
 "cells": [
  {
   "cell_type": "code",
   "execution_count": 48,
   "metadata": {},
   "outputs": [
    {
     "name": "stdout",
     "output_type": "stream",
     "text": [
      "Batch GD: MSE = 3078.2268\n",
      "Stochastic GD: MSE = 3261.4651\n",
      "Mini-Batch GD: MSE = 3087.5436\n"
     ]
    }
   ],
   "source": [
    "import numpy as np\n",
    "from sklearn.datasets import load_diabetes\n",
    "from sklearn.model_selection import train_test_split\n",
    "from sklearn.preprocessing import StandardScaler\n",
    "from sklearn.metrics import mean_squared_error\n",
    "\n",
    "X, y = load_diabetes(return_X_y=True)\n",
    "y = y.reshape(-1, 1)  \n",
    "X_train, X_test, y_train, y_test = train_test_split(X, y, test_size=0.2, random_state=2)\n",
    "\n",
    "scaler = StandardScaler()\n",
    "X_train = scaler.fit_transform(X_train)\n",
    "X_test = scaler.transform(X_test)\n",
    "\n",
    "def add_bias(X):\n",
    "    return np.insert(X, 0, 1, axis=1)\n",
    "\n",
    "X_train = add_bias(X_train)\n",
    "X_test = add_bias(X_test)\n",
    "\n",
    "\n",
    "class BatchGradientDescent:\n",
    "    def __init__(self, lr=0.01, epochs=1000):\n",
    "        self.lr = lr\n",
    "        self.epochs = epochs\n",
    "        self.theta = None\n",
    "\n",
    "    def fit(self, X, y):\n",
    "        m, n = X.shape\n",
    "        self.theta = np.random.randn(n, 1)\n",
    "\n",
    "        for _ in range(self.epochs):\n",
    "            gradients = (2 / m) * X.T @ (X @ self.theta - y)\n",
    "            self.theta -= self.lr * gradients\n",
    "\n",
    "    def predict(self, X):\n",
    "        return X @ self.theta\n",
    "\n",
    "\n",
    "class StochasticGradientDescent:\n",
    "    def __init__(self, lr=0.01, epochs=1000):\n",
    "        self.lr = lr\n",
    "        self.epochs = epochs\n",
    "        self.theta = None\n",
    "\n",
    "    def fit(self, X, y):\n",
    "        m, n = X.shape\n",
    "        self.theta = np.random.randn(n, 1)\n",
    "\n",
    "        for epoch in range(self.epochs):\n",
    "            for i in range(m):\n",
    "                idx = np.random.randint(m)\n",
    "                xi = X[idx:idx+1] ###sidha X[idx] likhenge to reshape wala issue ayega \n",
    "                yi = y[idx:idx+1]\n",
    "                gradients = 2 * xi.T @ (xi @ self.theta - yi)\n",
    "                self.theta -= self.lr * gradients\n",
    "\n",
    "    def predict(self, X):\n",
    "        return X @ self.theta\n",
    "\n",
    "\n",
    "class MiniBatchGradientDescent:\n",
    "    def __init__(self, lr=0.01, epochs=1000, batch_size=16):\n",
    "        self.lr = lr\n",
    "        self.epochs = epochs\n",
    "        self.batch_size = batch_size\n",
    "        self.theta = None\n",
    "\n",
    "    def fit(self, X, y):\n",
    "        m, n = X.shape\n",
    "        self.theta = np.random.randn(n, 1)\n",
    "\n",
    "        for _ in range(self.epochs):\n",
    "            indices = np.random.permutation(m)\n",
    "            X_shuffled, y_shuffled = X[indices], y[indices]\n",
    "\n",
    "            for i in range(0, m, self.batch_size):\n",
    "                X_mini = X_shuffled[i:i+self.batch_size]\n",
    "                y_mini = y_shuffled[i:i+self.batch_size]\n",
    "                gradients = (2 / len(X_mini)) * X_mini.T @ (X_mini @ self.theta - y_mini)\n",
    "                self.theta -= self.lr * gradients\n",
    "\n",
    "    def predict(self, X):\n",
    "        return X @ self.theta\n",
    "\n",
    "models = {\n",
    "    \"Batch GD\": BatchGradientDescent(lr=0.01, epochs=1000),\n",
    "    \"Stochastic GD\": StochasticGradientDescent(lr=0.01, epochs=1000),\n",
    "    \"Mini-Batch GD\": MiniBatchGradientDescent(lr=0.01, epochs=1000, batch_size=16)\n",
    "}\n",
    "\n",
    "for name, model in models.items():\n",
    "    model.fit(X_train, y_train)\n",
    "    y_pred = model.predict(X_test)\n",
    "    mse = mean_squared_error(y_test, y_pred)\n",
    "    print(f\"{name}: MSE = {mse:.4f}\")\n"
   ]
  },
  {
   "cell_type": "code",
   "execution_count": 3,
   "metadata": {},
   "outputs": [
    {
     "name": "stdout",
     "output_type": "stream",
     "text": [
      "MSE = 3094.4567\n"
     ]
    }
   ],
   "source": [
    "from sklearn.linear_model import LinearRegression\n",
    "from sklearn.metrics import r2_score\n",
    "lr=LinearRegression()\n",
    "lr.fit(X_train,y_train)\n",
    "y_pred = lr.predict(X_test)\n",
    "mse = mean_squared_error(y_test, y_pred)\n",
    "print(f\"MSE = {mse:.4f}\")\n"
   ]
  },
  {
   "cell_type": "markdown",
   "metadata": {},
   "source": [
    "# revise"
   ]
  },
  {
   "cell_type": "code",
   "execution_count": 21,
   "metadata": {},
   "outputs": [],
   "source": [
    "import numpy as np\n",
    "from sklearn.preprocessing import StandardScaler\n",
    "from sklearn.datasets import load_diabetes\n",
    "from sklearn.model_selection import train_test_split\n",
    "from sklearn.metrics import accuracy_score\n",
    "X, y = load_diabetes(return_X_y=True)\n",
    "y = y.reshape(-1, 1)  \n",
    "X_train, X_test, y_train, y_test = train_test_split(X, y, test_size=0.2, random_state=2)\n",
    "X_test = scaler.transform(X_test)\n"
   ]
  },
  {
   "cell_type": "code",
   "execution_count": 22,
   "metadata": {},
   "outputs": [],
   "source": [
    "X_train=np.insert(X_train,0,1,axis=1)\n",
    "X_test=np.insert(X_test,0,1,axis=1)\n"
   ]
  },
  {
   "cell_type": "code",
   "execution_count": 47,
   "metadata": {},
   "outputs": [
    {
     "name": "stdout",
     "output_type": "stream",
     "text": [
      "5109.045704875506\n"
     ]
    }
   ],
   "source": [
    "class batchGD:\n",
    "    def __init__(self,lr=0.001,epochs=1000):\n",
    "        self.lr=lr\n",
    "        self.epochs=epochs\n",
    "        \n",
    "    def fit(self,X_train,y_train):\n",
    "        m,n=X_train.shape\n",
    "        self.theta=np.random.randn(n,1)\n",
    "\n",
    "        for _ in range(self.epochs):\n",
    "            grad=(2/m)* (X_train.T) @ (X_train @ self.theta - y_train)\n",
    "            self.theta-=self.lr*grad\n",
    "        \n",
    "    def predict(self,X_test):\n",
    "        return X_test @ self.theta\n",
    "\n",
    "\n",
    "model=batchGD()\n",
    "model.fit(X_train, y_train)\n",
    "y_pred = model.predict(X_test)\n",
    "mse = mean_squared_error(y_test, y_pred)\n",
    "print(mse)"
   ]
  },
  {
   "cell_type": "code",
   "execution_count": 51,
   "metadata": {},
   "outputs": [
    {
     "name": "stdout",
     "output_type": "stream",
     "text": [
      "3165.272471514907\n"
     ]
    }
   ],
   "source": [
    "class StochGD:\n",
    "    def __init__(self,lr=0.001,epochs=1000):\n",
    "        self.lr=lr\n",
    "        self.epochs=epochs\n",
    "        \n",
    "    def fit(self,X_train,y_train):\n",
    "        m,n=X_train.shape\n",
    "        self.theta=np.random.randn(n,1)\n",
    "\n",
    "        for _ in range(self.epochs):\n",
    "            for i in range(m):\n",
    "                idx=np.random.randint(m)\n",
    "                xi=X_train[idx:idx+1]\n",
    "                yi=y_train[idx:idx+1]\n",
    "                grad=(2/1)* (xi.T) @ (xi @ self.theta - yi)\n",
    "                self.theta-=self.lr*grad\n",
    "        \n",
    "    def predict(self,X_test):\n",
    "        return X_test @ self.theta\n",
    "\n",
    "\n",
    "model=StochGD()\n",
    "model.fit(X_train, y_train)\n",
    "y_pred = model.predict(X_test)\n",
    "mse = mean_squared_error(y_test, y_pred)\n",
    "print(mse)"
   ]
  },
  {
   "cell_type": "code",
   "execution_count": 70,
   "metadata": {},
   "outputs": [
    {
     "name": "stdout",
     "output_type": "stream",
     "text": [
      "3100.165921577639\n"
     ]
    }
   ],
   "source": [
    "class miniBatchGD:\n",
    "    def __init__(self,lr=0.001,epochs=1000,batch_size=16):\n",
    "        self.lr=lr\n",
    "        self.epochs=epochs\n",
    "        self.batch_size=16\n",
    "        \n",
    "    def fit(self,X_train,y_train):\n",
    "        m,n=X_train.shape\n",
    "        self.theta=np.random.randn(n,1)\n",
    "\n",
    "        for _ in range(self.epochs):\n",
    "            indices = np.random.permutation(m)\n",
    "            X_shuffled, y_shuffled = X_train[indices], y_train[indices]\n",
    "\n",
    "            for i in range(0,self.epochs,self.batch_size):\n",
    "                xi=X_shuffled[i:i+self.batch_size]\n",
    "                yi=y_shuffled[i:i+self.batch_size]\n",
    "                grad=(2/1)* (xi.T) @ (xi @ self.theta - yi)\n",
    "                self.theta-=self.lr*grad\n",
    "        \n",
    "    def predict(self,X_test):\n",
    "        return X_test @ self.theta\n",
    "\n",
    "\n",
    "model=miniBatchGD()\n",
    "model.fit(X_train, y_train)\n",
    "y_pred = model.predict(X_test)\n",
    "mse = mean_squared_error(y_test, y_pred)\n",
    "print(mse)"
   ]
  }
 ],
 "metadata": {
  "kernelspec": {
   "display_name": "Python 3",
   "language": "python",
   "name": "python3"
  },
  "language_info": {
   "codemirror_mode": {
    "name": "ipython",
    "version": 3
   },
   "file_extension": ".py",
   "mimetype": "text/x-python",
   "name": "python",
   "nbconvert_exporter": "python",
   "pygments_lexer": "ipython3",
   "version": "3.9.7"
  }
 },
 "nbformat": 4,
 "nbformat_minor": 2
}
