{
 "cells": [
  {
   "cell_type": "code",
   "execution_count": 2,
   "metadata": {},
   "outputs": [],
   "source": [
    "from sklearn.datasets import load_diabetes\n",
    "import numpy as np\n",
    "from sklearn.linear_model import LinearRegression\n",
    "from sklearn.metrics import r2_score\n",
    "from sklearn.model_selection import train_test_split"
   ]
  },
  {
   "cell_type": "code",
   "execution_count": 3,
   "metadata": {},
   "outputs": [],
   "source": [
    "X,y = load_diabetes(return_X_y=True)"
   ]
  },
  {
   "cell_type": "code",
   "execution_count": 4,
   "metadata": {},
   "outputs": [],
   "source": [
    "X_train,X_test,y_train,y_test=train_test_split(X,y,test_size=0.2,random_state=2)"
   ]
  },
  {
   "cell_type": "code",
   "execution_count": 5,
   "metadata": {},
   "outputs": [
    {
     "name": "stdout",
     "output_type": "stream",
     "text": [
      "151.88331005254167 [  -9.15865318 -205.45432163  516.69374454  340.61999905 -895.5520019\n",
      "  561.22067904  153.89310954  126.73139688  861.12700152   52.42112238]\n"
     ]
    }
   ],
   "source": [
    "lr=LinearRegression()\n",
    "lr.fit(X_train,y_train)\n",
    "print(lr.intercept_,lr.coef_)\n",
    "\n"
   ]
  },
  {
   "cell_type": "code",
   "execution_count": 6,
   "metadata": {},
   "outputs": [],
   "source": [
    "class BATCHGD:\n",
    "    def __init__(self,lr,epochs):\n",
    "        self.epochs=epochs\n",
    "        self.lr=lr\n",
    "    def fit(self,X_train,y_train):\n",
    "        self.coeff=np.ones(X_train.shape[1])\n",
    "        self.intercept=0\n",
    "        for _ in range(self.epochs):\n",
    "            \n",
    "            y_hat=np.dot(X_train,self.coeff)+self.intercept\n",
    "            intercept_slope=-2*np.mean(y_train-y_hat)\n",
    "            self.intercept=self.intercept-(self.lr*intercept_slope)\n",
    "            coeff_slope=-2*np.dot((y_train-y_hat),X_train)/X_train.shape[0]\n",
    "            self.coeff=self.coeff-(self.lr*coeff_slope)\n",
    "\n",
    "        print(self.coeff,self.intercept)\n",
    "\n",
    "    def predict(self,X_test):\n",
    "        return np.dot(X_test,self.coeff)+self.intercept\n",
    "\n"
   ]
  },
  {
   "cell_type": "code",
   "execution_count": 7,
   "metadata": {},
   "outputs": [
    {
     "name": "stdout",
     "output_type": "stream",
     "text": [
      "[ 2.63758947  1.19108142  5.06103425  4.31366336  2.44733951  1.99306662\n",
      " -1.48911556  3.60299587  5.24176482  3.51410277] 130.1208007542088\n"
     ]
    }
   ],
   "source": [
    "batch=BATCHGD(0.00001,100000)\n",
    "batch.fit(X_train,y_train)"
   ]
  },
  {
   "cell_type": "code",
   "execution_count": 12,
   "metadata": {},
   "outputs": [
    {
     "data": {
      "text/plain": [
       "array([ 73., 233.,  97., 111., 277., 341.,  64.,  68.,  65., 178., 142.,\n",
       "        77., 244., 115., 258.,  87., 220.,  86.,  74., 132., 136., 220.,\n",
       "        91., 235., 148., 317., 131.,  84.,  65., 217., 306.,  79., 158.,\n",
       "        54., 123., 174., 237., 212., 179., 281., 187., 200.,  68., 163.,\n",
       "       141., 202., 178., 242.,  47., 131., 243., 142., 200.,  89., 232.,\n",
       "        55., 253., 128., 104., 184., 110., 198.,  81., 195., 150.,  63.,\n",
       "       151., 233., 178.,  84., 237., 109., 131., 252., 200., 160., 200.,\n",
       "        51., 111.,  77., 201.,  88.,  78., 243., 268.,  55., 270., 288.,\n",
       "        91.])"
      ]
     },
     "execution_count": 12,
     "metadata": {},
     "output_type": "execute_result"
    }
   ],
   "source": [
    "y_test"
   ]
  },
  {
   "cell_type": "code",
   "execution_count": 9,
   "metadata": {},
   "outputs": [
    {
     "data": {
      "text/plain": [
       "array([130.4173581 , 131.04841886, 130.10749658, 129.2841362 ,\n",
       "       131.80348767, 131.51403682, 128.96284482, 129.11327171,\n",
       "       128.77406686, 130.79013609, 130.85625619, 130.44710086,\n",
       "       130.89335306, 130.53609505, 131.64294158, 129.1894139 ,\n",
       "       130.50170595, 129.47365874, 130.03507587, 129.97228021,\n",
       "       129.20225409, 131.64716084, 130.78456845, 130.96311159,\n",
       "       129.63322514, 131.51903648, 131.00437136, 130.08193158,\n",
       "       128.24412097, 132.42239915, 131.91666821, 129.50550312,\n",
       "       128.40809032, 129.53520661, 131.14455845, 130.44780029,\n",
       "       130.70081459, 131.28253954, 129.37549292, 131.88583571,\n",
       "       129.56867038, 129.72017615, 130.84991661, 130.85165672,\n",
       "       130.38962628, 129.92891814, 130.69998553, 132.49359356,\n",
       "       129.55347188, 131.60463913, 131.71586579, 129.16885759,\n",
       "       129.61438548, 130.60115771, 131.01933865, 129.5867426 ,\n",
       "       130.89452352, 128.89442879, 130.30348164, 129.5416863 ,\n",
       "       130.4388715 , 130.85341065, 129.50744096, 130.86791859,\n",
       "       130.33106844, 130.91810026, 129.69337153, 130.74260853,\n",
       "       129.22276126, 130.3360598 , 131.01794379, 130.60255363,\n",
       "       129.27526615, 129.91023229, 129.77776902, 129.27033561,\n",
       "       128.60057234, 129.00672266, 130.51265706, 128.86161472,\n",
       "       128.76825311, 129.073358  , 129.99389543, 132.22197451,\n",
       "       131.02774987, 129.60948273, 131.59804024, 130.3866392 ,\n",
       "       129.74142971])"
      ]
     },
     "execution_count": 9,
     "metadata": {},
     "output_type": "execute_result"
    }
   ],
   "source": [
    "batch.predict(X_test)"
   ]
  }
 ],
 "metadata": {
  "kernelspec": {
   "display_name": "base",
   "language": "python",
   "name": "python3"
  },
  "language_info": {
   "codemirror_mode": {
    "name": "ipython",
    "version": 3
   },
   "file_extension": ".py",
   "mimetype": "text/x-python",
   "name": "python",
   "nbconvert_exporter": "python",
   "pygments_lexer": "ipython3",
   "version": "3.11.5"
  }
 },
 "nbformat": 4,
 "nbformat_minor": 2
}
