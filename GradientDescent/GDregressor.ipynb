{
 "cells": [
  {
   "cell_type": "code",
   "execution_count": 3,
   "metadata": {},
   "outputs": [],
   "source": [
    "import pandas as pd \n",
    "import numpy as np\n",
    "from sklearn.linear_model import LinearRegression\n",
    "from sklearn.metrics import mean_squared_error,r2_score"
   ]
  },
  {
   "cell_type": "code",
   "execution_count": 34,
   "metadata": {},
   "outputs": [
    {
     "name": "stdout",
     "output_type": "stream",
     "text": [
      "    Feature     Target\n",
      "0  7.385186  35.620380\n",
      "1  9.924924  59.610459\n",
      "2  0.167060   1.226786\n",
      "3  9.281297  54.280555\n",
      "4  3.475041  25.269210\n"
     ]
    }
   ],
   "source": [
    "import numpy as np\n",
    "import pandas as pd\n",
    "\n",
    "# Parameters for the synthetic dataset\n",
    "n_samples = 1000   # Number of data points\n",
    "n_features = 1     # Number of features (set to 1 for simplicity)\n",
    "noise = 5.0        # Amount of noise to add\n",
    "\n",
    "# Generate random feature values\n",
    "X = np.random.rand(n_samples, n_features) * 10  # Values between 0 and 10\n",
    "\n",
    "# Define the linear relationship\n",
    "true_weights = np.array([5])  # Slope\n",
    "true_bias = 3                 # Intercept\n",
    "\n",
    "# Generate target variable with added noise\n",
    "y = X.dot(true_weights) + true_bias + np.random.normal(0, noise, size=(n_samples,))\n",
    "\n",
    "# Convert to DataFrame for easy handling\n",
    "data = pd.DataFrame(np.hstack((X, y.reshape(-1, 1))), columns=[\"Feature\", \"Target\"])\n",
    "\n",
    "# Display the first few rows\n",
    "print(data.head())\n"
   ]
  },
  {
   "cell_type": "code",
   "execution_count": 35,
   "metadata": {},
   "outputs": [],
   "source": [
    "X=data['Feature'].to_numpy().reshape(-1,1)\n",
    "y=data['Target']"
   ]
  },
  {
   "cell_type": "code",
   "execution_count": 17,
   "metadata": {},
   "outputs": [
    {
     "name": "stdout",
     "output_type": "stream",
     "text": [
      "[5.03520718] 2.7916565469368386\n"
     ]
    }
   ],
   "source": [
    "lr=LinearRegression()\n",
    "lr.fit(X,y)\n",
    "print(lr.coef_,lr.intercept_)"
   ]
  },
  {
   "cell_type": "code",
   "execution_count": 66,
   "metadata": {},
   "outputs": [
    {
     "data": {
      "text/plain": [
       "0.8914678791910032"
      ]
     },
     "execution_count": 66,
     "metadata": {},
     "output_type": "execute_result"
    }
   ],
   "source": [
    "ytest=lr.predict(X)\n",
    "r2_score(y,ytest)"
   ]
  },
  {
   "cell_type": "code",
   "execution_count": 67,
   "metadata": {},
   "outputs": [
    {
     "name": "stdout",
     "output_type": "stream",
     "text": [
      "5.003714907501328 3.2175136912496343\n"
     ]
    }
   ],
   "source": [
    "class GDR:\n",
    "    def __init__(self,epochs,lr):\n",
    "        self.epochs=epochs\n",
    "        self.lr=lr\n",
    "        self.b=0\n",
    "        self.m=0\n",
    "\n",
    "    def fit(self,X,y):\n",
    "        for i in range(0,self.epochs):\n",
    "            slope_b=-2*np.sum(y-self.m*X.ravel()-self.b)\n",
    "            slope_m=-2*np.sum((y-self.m*X.ravel()-self.b)*X.ravel())\n",
    "            self.b=self.b-self.lr*slope_b\n",
    "            self.m=self.m-self.lr*slope_m\n",
    "        print(self.m,self.b)\n",
    "\n",
    "    def predict(self,y):\n",
    "        return self.m*y+self.b\n",
    "\n",
    "\n",
    "gdr=GDR(10000,0.000001)\n",
    "gdr.fit(X,y)\n"
   ]
  },
  {
   "cell_type": "code",
   "execution_count": 65,
   "metadata": {},
   "outputs": [
    {
     "data": {
      "text/plain": [
       "0.8918218358910288"
      ]
     },
     "execution_count": 65,
     "metadata": {},
     "output_type": "execute_result"
    }
   ],
   "source": [
    "ytest1=gdr.predict(X)\n",
    "r2_score(y,ytest1)"
   ]
  }
 ],
 "metadata": {
  "kernelspec": {
   "display_name": "base",
   "language": "python",
   "name": "python3"
  },
  "language_info": {
   "codemirror_mode": {
    "name": "ipython",
    "version": 3
   },
   "file_extension": ".py",
   "mimetype": "text/x-python",
   "name": "python",
   "nbconvert_exporter": "python",
   "pygments_lexer": "ipython3",
   "version": "3.11.5"
  }
 },
 "nbformat": 4,
 "nbformat_minor": 2
}
