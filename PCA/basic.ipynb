{
 "cells": [
  {
   "cell_type": "code",
   "execution_count": 20,
   "metadata": {},
   "outputs": [
    {
     "name": "stdout",
     "output_type": "stream",
     "text": [
      "Original Data:\n",
      " [[ 1  2  3]\n",
      " [ 4  5  6]\n",
      " [ 7  8  9]\n",
      " [10 11 12]]\n",
      "Transformed Data (2 principal components):\n",
      " [[-7.79422863e+00  2.77555756e-16]\n",
      " [-2.59807621e+00  1.66533454e-16]\n",
      " [ 2.59807621e+00 -1.66533454e-16]\n",
      " [ 7.79422863e+00 -2.77555756e-16]]\n"
     ]
    }
   ],
   "source": [
    "import numpy as np\n",
    "class meraPCA:\n",
    "    def __init__(self,n):\n",
    "        self.n=n\n",
    "    \n",
    "    def fit(self,X):\n",
    "        X_std=X-np.mean(X,axis=0)\n",
    "        self.mean = np.mean(X, axis=0)\n",
    "\n",
    "        cov_matrix=np.cov(X_std,rowvar=False)\n",
    "        eigenvalue,eigenvector=np.linalg.eig(cov_matrix)\n",
    "\n",
    "        sorted_ind=np.argsort(eigenvalue)[::-1]\n",
    "        self.components=eigenvector[:,sorted_ind[:self.n]]\n",
    "\n",
    "    def transform(self, X):\n",
    "        X_std = X - self.mean\n",
    "        return np.dot(X_std, self.components)\n",
    "\n",
    "    def fit_transform(self, X):\n",
    "        self.fit(X)\n",
    "        return self.transform(X)\n",
    "\n",
    "\n",
    "\n",
    "\n",
    "\n",
    "\n",
    "X = np.array([[1, 2, 3],\n",
    "                  [4, 5, 6],\n",
    "                  [7, 8, 9],\n",
    "                  [10, 11, 12]])\n",
    "\n",
    "\n",
    "pca = meraPCA(2)\n",
    "X_transformed = pca.fit_transform(X)\n",
    "\n",
    "print(\"Original Data:\\n\", X)\n",
    "print(\"Transformed Data (2 principal components):\\n\", X_transformed)\n",
    "    \n",
    "\n",
    "        \n"
   ]
  },
  {
   "cell_type": "code",
   "execution_count": 18,
   "metadata": {},
   "outputs": [
    {
     "name": "stdout",
     "output_type": "stream",
     "text": [
      "Original Data:\n",
      " [[ 1  2  3]\n",
      " [ 4  5  6]\n",
      " [ 7  8  9]\n",
      " [10 11 12]]\n",
      "Transformed Data (2 principal components):\n",
      " [[-7.79422863e+00  2.77555756e-16]\n",
      " [-2.59807621e+00  1.66533454e-16]\n",
      " [ 2.59807621e+00 -1.66533454e-16]\n",
      " [ 7.79422863e+00 -2.77555756e-16]]\n"
     ]
    }
   ],
   "source": [
    "import numpy as np\n",
    "\n",
    "class PCA:\n",
    "    def __init__(self, n_components):\n",
    "        self.n_components = n_components\n",
    "        self.components = None\n",
    "        self.mean = None\n",
    "\n",
    "    def fit(self, X):\n",
    "        # Step 1: Standardize the data (subtract mean and divide by std)\n",
    "        self.mean = np.mean(X, axis=0)\n",
    "        X_std = X - self.mean\n",
    "\n",
    "        # Step 2: Compute the covariance matrix\n",
    "        cov_matrix = np.cov(X_std, rowvar=False)\n",
    "\n",
    "        # Step 3: Eigenvalue decomposition\n",
    "        eigenvalues, eigenvectors = np.linalg.eig(cov_matrix)\n",
    "\n",
    "        # Step 4: Sort eigenvalues and eigenvectors\n",
    "        sorted_indices = np.argsort(eigenvalues)[::-1]\n",
    "        self.components = eigenvectors[:, sorted_indices[:self.n_components]]\n",
    "\n",
    "    def transform(self, X):\n",
    "        # Project data onto the principal components\n",
    "        X_std = X - self.mean\n",
    "        return np.dot(X_std, self.components)\n",
    "\n",
    "    def fit_transform(self, X):\n",
    "        self.fit(X)\n",
    "        return self.transform(X)\n",
    "\n",
    "# Example usage\n",
    "if __name__ == \"__main__\":\n",
    "    # Sample data (4 samples, 3 features)\n",
    "    X = np.array([[1, 2, 3],\n",
    "                  [4, 5, 6],\n",
    "                  [7, 8, 9],\n",
    "                  [10, 11, 12]])\n",
    "\n",
    "    # Apply PCA\n",
    "    pca = PCA(n_components=2)\n",
    "    X_transformed = pca.fit_transform(X)\n",
    "\n",
    "    print(\"Original Data:\\n\", X)\n",
    "    print(\"Transformed Data (2 principal components):\\n\", X_transformed)"
   ]
  }
 ],
 "metadata": {
  "kernelspec": {
   "display_name": "Python 3",
   "language": "python",
   "name": "python3"
  },
  "language_info": {
   "codemirror_mode": {
    "name": "ipython",
    "version": 3
   },
   "file_extension": ".py",
   "mimetype": "text/x-python",
   "name": "python",
   "nbconvert_exporter": "python",
   "pygments_lexer": "ipython3",
   "version": "3.9.7"
  }
 },
 "nbformat": 4,
 "nbformat_minor": 2
}
