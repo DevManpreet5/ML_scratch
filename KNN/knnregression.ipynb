{
 "cells": [
  {
   "cell_type": "code",
   "execution_count": 1,
   "metadata": {},
   "outputs": [],
   "source": [
    "import pandas as pd \n",
    "import numpy as np\n",
    "from sklearn.neighbors import KNeighborsRegressor\n"
   ]
  },
  {
   "cell_type": "code",
   "execution_count": 3,
   "metadata": {},
   "outputs": [],
   "source": [
    "X_train = [[1, 2], [2, 3], [3, 3], [5, 5], [6, 7], [7, 8]]\n",
    "y_train = [2.0, 2.5, 3.0, 5.0, 6.5, 7.0]"
   ]
  },
  {
   "cell_type": "code",
   "execution_count": 6,
   "metadata": {},
   "outputs": [
    {
     "data": {
      "text/plain": [
       "array([3.125])"
      ]
     },
     "execution_count": 6,
     "metadata": {},
     "output_type": "execute_result"
    }
   ],
   "source": [
    "model1=KNeighborsRegressor(n_neighbors=4)\n",
    "model1.fit(X_train,y_train)\n",
    "ans=model1.predict([[4,4]])\n",
    "ans"
   ]
  },
  {
   "cell_type": "code",
   "execution_count": 14,
   "metadata": {},
   "outputs": [
    {
     "data": {
      "text/plain": [
       "array([3.125])"
      ]
     },
     "execution_count": 14,
     "metadata": {},
     "output_type": "execute_result"
    }
   ],
   "source": [
    "class meraKNN:\n",
    "    def __init__(self,n_neighbours):\n",
    "        self.n_neighbours=n_neighbours\n",
    "\n",
    "    def fit(self,X_train,y_train):\n",
    "        self.X_train=np.array(X_train)\n",
    "        self.y_train=np.array(y_train)\n",
    "    \n",
    "    def predict(self,X_test):\n",
    "        predictions = []\n",
    "        for i in X_test:\n",
    "            distance=[]\n",
    "            for j in self.X_train:\n",
    "                dist = np.sqrt(np.sum((j - i) ** 2))\n",
    "                distance.append(dist)\n",
    "            k_best=np.argsort(distance)[:self.n_neighbours]\n",
    "            bestlist = [self.y_train[i] for i in k_best]\n",
    "            predictions.append(np.mean(bestlist))\n",
    "            print(predictions)\n",
    "        return np.array(predictions)\n",
    "\n",
    "\n",
    "\n",
    "model2=meraKNN(4)\n",
    "model2.fit(X_train,y_train)\n",
    "model2.predict([[4,4]])"
   ]
  }
 ],
 "metadata": {
  "kernelspec": {
   "display_name": "Python 3",
   "language": "python",
   "name": "python3"
  },
  "language_info": {
   "codemirror_mode": {
    "name": "ipython",
    "version": 3
   },
   "file_extension": ".py",
   "mimetype": "text/x-python",
   "name": "python",
   "nbconvert_exporter": "python",
   "pygments_lexer": "ipython3",
   "version": "3.9.7"
  }
 },
 "nbformat": 4,
 "nbformat_minor": 2
}
