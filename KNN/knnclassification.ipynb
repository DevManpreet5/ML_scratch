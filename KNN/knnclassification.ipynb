{
 "cells": [
  {
   "cell_type": "code",
   "execution_count": 1,
   "metadata": {},
   "outputs": [],
   "source": [
    "import pandas as pd \n",
    "import numpy as np\n",
    "from sklearn.neighbors import KNeighborsClassifier\n",
    "X_train = [[1, 2], [2, 3], [3, 3], [5, 5], [6, 7], [7, 8]]\n",
    "y_train = [1, 1, 2, 2, 1, 1]\n",
    "\n"
   ]
  },
  {
   "cell_type": "code",
   "execution_count": 2,
   "metadata": {},
   "outputs": [
    {
     "data": {
      "text/plain": [
       "array([2])"
      ]
     },
     "execution_count": 2,
     "metadata": {},
     "output_type": "execute_result"
    }
   ],
   "source": [
    "model1=KNeighborsClassifier(n_neighbors=2)\n",
    "model1.fit(X_train,y_train)\n",
    "ans=model1.predict([[4,4]])\n",
    "ans"
   ]
  },
  {
   "cell_type": "code",
   "execution_count": 4,
   "metadata": {},
   "outputs": [],
   "source": [
    "from collections import Counter"
   ]
  },
  {
   "cell_type": "code",
   "execution_count": 6,
   "metadata": {},
   "outputs": [
    {
     "name": "stdout",
     "output_type": "stream",
     "text": [
      "[np.int64(2)]\n"
     ]
    },
    {
     "data": {
      "text/plain": [
       "array([2])"
      ]
     },
     "execution_count": 6,
     "metadata": {},
     "output_type": "execute_result"
    }
   ],
   "source": [
    "class meraKNN:\n",
    "    def __init__(self,n_neighbours):\n",
    "        self.n_neighbours=n_neighbours\n",
    "\n",
    "    def fit(self,X_train,y_train):\n",
    "        self.X_train=np.array(X_train)\n",
    "        self.y_train=np.array(y_train)\n",
    "    \n",
    "    def predict(self,X_test):\n",
    "        predictions = []\n",
    "        for i in X_test:\n",
    "            distance=[]\n",
    "            for j in self.X_train:\n",
    "                dist = np.sqrt(np.sum((j - i) ** 2))\n",
    "                distance.append(dist)\n",
    "            k_best=np.argsort(distance)[:self.n_neighbours]\n",
    "            bestlist = [self.y_train[i] for i in k_best]\n",
    "            mostcounter=Counter(bestlist).most_common(1)[0][0]\n",
    "            predictions.append(mostcounter)\n",
    "            print(predictions)\n",
    "        return np.array(predictions)\n",
    "\n",
    "\n",
    "\n",
    "\n",
    "model2=meraKNN(4)\n",
    "model2.fit(X_train,y_train)\n",
    "model2.predict([[4,4]])"
   ]
  }
 ],
 "metadata": {
  "kernelspec": {
   "display_name": "Python 3",
   "language": "python",
   "name": "python3"
  },
  "language_info": {
   "codemirror_mode": {
    "name": "ipython",
    "version": 3
   },
   "file_extension": ".py",
   "mimetype": "text/x-python",
   "name": "python",
   "nbconvert_exporter": "python",
   "pygments_lexer": "ipython3",
   "version": "3.9.7"
  }
 },
 "nbformat": 4,
 "nbformat_minor": 2
}
