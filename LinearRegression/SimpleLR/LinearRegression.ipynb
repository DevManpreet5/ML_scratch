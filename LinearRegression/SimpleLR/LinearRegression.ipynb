{
 "cells": [
  {
   "cell_type": "code",
   "execution_count": 1,
   "metadata": {},
   "outputs": [],
   "source": [
    "import pandas as pd \n",
    "import numpy as np\n",
    "from sklearn.model_selection import train_test_split\n",
    "from sklearn.linear_model import LinearRegression\n"
   ]
  },
  {
   "cell_type": "code",
   "execution_count": 29,
   "metadata": {},
   "outputs": [],
   "source": [
    "df=pd.read_csv('/Users/s/Downloads/placement (1).csv')"
   ]
  },
  {
   "cell_type": "code",
   "execution_count": 30,
   "metadata": {},
   "outputs": [],
   "source": [
    "X_train,X_test,y_train,y_test=train_test_split(df['cgpa'],df['package'],random_state=42,test_size=0.2)"
   ]
  },
  {
   "cell_type": "code",
   "execution_count": 31,
   "metadata": {},
   "outputs": [],
   "source": [
    "X_train = np.array(X_train).reshape(-1, 1)\n",
    "X_test = np.array(X_test).reshape(-1, 1)\n"
   ]
  },
  {
   "cell_type": "code",
   "execution_count": 39,
   "metadata": {},
   "outputs": [],
   "source": [
    "lr=LinearRegression()\n",
    "lr.fit(X_train,y_train);\n",
    "sklearnprediction=lr.predict(X_test)\n",
    "# print(lr.coef_,lr.intercept_)"
   ]
  },
  {
   "cell_type": "code",
   "execution_count": 42,
   "metadata": {},
   "outputs": [
    {
     "name": "stdout",
     "output_type": "stream",
     "text": [
      "[0.57425647] [-1.02700694]\n"
     ]
    }
   ],
   "source": [
    "class meraLR:\n",
    "    def __init__(self):\n",
    "        pass\n",
    "\n",
    "    def fit(self,X_train,y_train):\n",
    "        X_train = np.array(X_train)\n",
    "        y_train = np.array(y_train)\n",
    "        num=0\n",
    "        den=0\n",
    "\n",
    "        for i in range (0,X_train.shape[0]):\n",
    "           num += (X_train[i] - X_train.mean()) * (y_train[i] - y_train.mean())\n",
    "           den += (X_train[i] - X_train.mean()) * (X_train[i] - X_train.mean())\n",
    "        self.m=num/den\n",
    "        self.b=y_train.mean()-self.m*X_train.mean()\n",
    "        print(self.m,self.b)\n",
    "    \n",
    "\n",
    "    def predict(self,X_test):\n",
    "        X_test=np.array(X_test)\n",
    "        y_test=[]\n",
    "        for i in X_test:\n",
    "            y_test.append((self.m*i+self.b).item())\n",
    "        \n",
    "        return y_test\n",
    "\n",
    "        \n",
    "            \n",
    "        \n",
    "\n",
    "\n",
    "LR=meraLR()\n",
    "LR.fit(X_train,y_train)\n",
    "hamaraprediction=LR.predict(X_test)"
   ]
  },
  {
   "cell_type": "code",
   "execution_count": 44,
   "metadata": {},
   "outputs": [
    {
     "name": "stdout",
     "output_type": "stream",
     "text": [
      "[array([2.78031348]), array([3.13635249]), array([3.1995207]), array([2.38981908]), array([3.52684689]), array([3.76803461]), array([3.16506531]), array([2.54486832]), array([3.17655044]), array([3.4923915]), array([1.90744364]), array([2.34962112]), array([3.6876387]), array([2.75734322]), array([3.47516381]), array([3.04447145]), array([2.32665086]), array([3.20526327]), array([2.17734418]), array([3.314372]), array([2.45298729]), array([2.90090734]), array([3.32011456]), array([2.87219451]), array([3.33734226]), array([2.19457187]), array([1.41932564]), array([2.7114027]), array([3.18229301]), array([2.32665086]), array([3.74506435]), array([2.95833298]), array([3.68189614]), array([2.97556068]), array([2.59080884]), array([3.34882738]), array([2.47595755]), array([3.07318428]), array([4.17575671]), array([2.95833298])]\n",
      "[2.78031348 3.13635249 3.1995207  2.38981908 3.52684689 3.76803461\n",
      " 3.16506531 2.54486832 3.17655044 3.4923915  1.90744364 2.34962112\n",
      " 3.6876387  2.75734322 3.47516381 3.04447145 2.32665086 3.20526327\n",
      " 2.17734418 3.314372   2.45298729 2.90090734 3.32011456 2.87219451\n",
      " 3.33734226 2.19457187 1.41932564 2.7114027  3.18229301 2.32665086\n",
      " 3.74506435 2.95833298 3.68189614 2.97556068 2.59080884 3.34882738\n",
      " 2.47595755 3.07318428 4.17575671 2.95833298]\n"
     ]
    }
   ],
   "source": [
    "print(hamaraprediction)\n",
    "print(sklearnprediction)"
   ]
  }
 ],
 "metadata": {
  "kernelspec": {
   "display_name": "base",
   "language": "python",
   "name": "python3"
  },
  "language_info": {
   "codemirror_mode": {
    "name": "ipython",
    "version": 3
   },
   "file_extension": ".py",
   "mimetype": "text/x-python",
   "name": "python",
   "nbconvert_exporter": "python",
   "pygments_lexer": "ipython3",
   "version": "3.11.5"
  }
 },
 "nbformat": 4,
 "nbformat_minor": 2
}
