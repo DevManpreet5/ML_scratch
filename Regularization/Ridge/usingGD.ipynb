{
 "cells": [
  {
   "cell_type": "code",
   "execution_count": 1,
   "metadata": {},
   "outputs": [],
   "source": [
    "import numpy as np\n",
    "import pandas as pd\n",
    "from sklearn.linear_model import Ridge\n",
    "X = np.array([[1, 2], [2, 3], [4, 5], [3, 6]])\n",
    "y = np.array([3, 4, 6, 5])\n"
   ]
  },
  {
   "cell_type": "code",
   "execution_count": 2,
   "metadata": {},
   "outputs": [
    {
     "name": "stdout",
     "output_type": "stream",
     "text": [
      "[9.99286407e-01 4.28112706e-04]\n",
      "2.0000715304979213\n",
      "[3.00021416 3.99992868 5.99935772 5.00049943]\n"
     ]
    }
   ],
   "source": [
    "model1=Ridge(alpha=0.001,solver='sparse_cg')\n",
    "model1.fit(X,y)\n",
    "print(model1.coef_)\n",
    "print(model1.intercept_)\n",
    "pred=model1.predict(X)\n",
    "print(pred)\n",
    "\n"
   ]
  },
  {
   "cell_type": "code",
   "execution_count": 8,
   "metadata": {},
   "outputs": [
    {
     "name": "stdout",
     "output_type": "stream",
     "text": [
      "[0.96807146 0.05030478] 1.8601534931586243\n",
      "[[2.92883452]\n",
      " [3.94721077]\n",
      " [5.98396326]\n",
      " [5.06619658]]\n"
     ]
    }
   ],
   "source": [
    "class usingGD:\n",
    "    def __init__(self,epochs,lr,alpha):\n",
    "        self.epochs=epochs\n",
    "        self.lr=lr\n",
    "        self.alpha=alpha\n",
    "\n",
    "    def fit(self,X_train,y_train):\n",
    "        X_train = np.array(X_train)\n",
    "        y_train = np.array(y_train).reshape(-1, 1) \n",
    "        self.b=0\n",
    "        num_Samples,num_features=X_train.shape\n",
    "        self.w=np.zeros((num_features,1))\n",
    "\n",
    "        for _ in range(self.epochs):\n",
    "            y_pred = X_train @ self.w + self.b\n",
    "            dw=(-2/num_Samples)*(X_train.T @ (y_train-y_pred))+2*self.alpha*self.w\n",
    "            db = (-2 / num_Samples) * np.sum(y_train - y_pred)\n",
    "\n",
    "\n",
    "            self.w=self.w-self.lr*dw\n",
    "            self.b=self.b-self.lr*db\n",
    "\n",
    "        print(self.w.flatten(),self.b)\n",
    "    \n",
    "    def predict(self,X_test):\n",
    "        return X_test@self.w+self.b\n",
    "    \n",
    "model=usingGD(epochs=1000,lr=0.01,alpha=0.01)\n",
    "model.fit(X,y)\n",
    "pred=model.predict(X)\n",
    "print(pred)"
   ]
  }
 ],
 "metadata": {
  "kernelspec": {
   "display_name": "Python 3",
   "language": "python",
   "name": "python3"
  },
  "language_info": {
   "codemirror_mode": {
    "name": "ipython",
    "version": 3
   },
   "file_extension": ".py",
   "mimetype": "text/x-python",
   "name": "python",
   "nbconvert_exporter": "python",
   "pygments_lexer": "ipython3",
   "version": "3.9.7"
  }
 },
 "nbformat": 4,
 "nbformat_minor": 2
}
