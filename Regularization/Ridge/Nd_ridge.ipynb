{
 "cells": [
  {
   "cell_type": "code",
   "execution_count": 1,
   "metadata": {},
   "outputs": [],
   "source": [
    "import numpy as np\n",
    "import pandas as pd\n",
    "from sklearn.linear_model import Ridge"
   ]
  },
  {
   "cell_type": "code",
   "execution_count": 2,
   "metadata": {},
   "outputs": [],
   "source": [
    "X = np.array([[1, 2], [2, 3], [4, 5], [3, 6]])\n",
    "y = np.array([3, 4, 6, 5])\n"
   ]
  },
  {
   "cell_type": "code",
   "execution_count": 12,
   "metadata": {},
   "outputs": [
    {
     "name": "stdout",
     "output_type": "stream",
     "text": [
      "[0.99292585 0.00424025]\n",
      "2.000724376506173\n",
      "[3.00213073 3.99929682 5.99362902 5.00494343]\n"
     ]
    }
   ],
   "source": [
    "model1=Ridge(alpha=0.01,solver='cholesky')\n",
    "model1.fit(X,y)\n",
    "print(model1.coef_)\n",
    "print(model1.intercept_)\n",
    "pred=model1.predict(X)\n",
    "print(pred)\n",
    "\n"
   ]
  },
  {
   "cell_type": "code",
   "execution_count": 13,
   "metadata": {},
   "outputs": [
    {
     "name": "stdout",
     "output_type": "stream",
     "text": [
      "[0.99292585 0.00424025] 2.0007243765061853\n"
     ]
    },
    {
     "data": {
      "text/plain": [
       "array([3.00213073, 3.99929682, 5.99362902, 5.00494343])"
      ]
     },
     "execution_count": 13,
     "metadata": {},
     "output_type": "execute_result"
    }
   ],
   "source": [
    "class ndRidge:\n",
    "    def __init__(self,alpha):\n",
    "        self.alpha=alpha\n",
    "    \n",
    "    def fit(self,X_train,y_train):\n",
    "        X_train=np.insert(X_train,0,1,axis=1)\n",
    "        I=np.identity(X_train.shape[1])\n",
    "        I[0, 0] = 0\n",
    "        self.W=np.linalg.inv(X_train.T@X_train+self.alpha*I)@(X_train.T)@(y_train)\n",
    "        self.intercept=self.W[0]\n",
    "        self.coeff=self.W[1:]\n",
    "\n",
    "        print(self.coeff,self.intercept)\n",
    "    \n",
    "    def predict(self,X_test):\n",
    "        X_test=np.insert(X_test,0,1,axis=1)\n",
    "        return X_test @ self.W\n",
    "    \n",
    "\n",
    "\n",
    "model=ndRidge(0.01)\n",
    "model.fit(X,y)\n",
    "model.predict(X)\n",
    "\n"
   ]
  }
 ],
 "metadata": {
  "kernelspec": {
   "display_name": "Python 3",
   "language": "python",
   "name": "python3"
  },
  "language_info": {
   "codemirror_mode": {
    "name": "ipython",
    "version": 3
   },
   "file_extension": ".py",
   "mimetype": "text/x-python",
   "name": "python",
   "nbconvert_exporter": "python",
   "pygments_lexer": "ipython3",
   "version": "3.9.7"
  }
 },
 "nbformat": 4,
 "nbformat_minor": 2
}
